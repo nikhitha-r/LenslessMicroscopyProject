{
 "cells": [
  {
   "cell_type": "markdown",
   "metadata": {},
   "source": [
    "# preprocess Cell Track Orange Validation Data triplett\n",
    "\n",
    "* bright field (bf)\n",
    "* fluorescence (fluor)\n",
    "* lensfree"
   ]
  },
  {
   "cell_type": "code",
   "execution_count": null,
   "metadata": {},
   "outputs": [],
   "source": [
    "import sys\n",
    "import os\n",
    "import re\n",
    "import csv\n",
    "import cv2\n",
    "import numpy as np\n",
    "\n",
    "import subprocess\n",
    "\n",
    "from preprocessmicroscopydata import ImagePreProcessor\n",
    "\n",
    "import codecs\n",
    "\n",
    "import matplotlib.pyplot as plt\n",
    "%matplotlib inline\n",
    "\n",
    "def getFiles(fpath):\n",
    "    files = [f for f in os.listdir(fpath) if os.path.isfile(os.path.join(fpath,f)) and re.match(r'.*\\.*(tif|png)$',f)]\n",
    "    files.sort(key=lambda f: f.split()[0])\n",
    "    return files"
   ]
  },
  {
   "cell_type": "code",
   "execution_count": null,
   "metadata": {},
   "outputs": [],
   "source": [
    "basedir = '[DIRECTORY_OF_DATA]'\n",
    "\n",
    "bf_imgs = getFiles(os.path.join(basedir,'bf'))\n",
    "fluo_imgs = getFiles(os.path.join(basedir,'fluor'))\n",
    "lm_imgs = getFiles(os.path.join(basedir,'lensfree_unaligned_raw'))"
   ]
  },
  {
   "cell_type": "code",
   "execution_count": null,
   "metadata": {},
   "outputs": [],
   "source": [
    "# preprocess microscopy images (bf and fluor)\n",
    "\n",
    "ImgProc_micro = ImagePreProcessor()\n",
    "ImgProc_micro.claheClip = 6\n",
    "ImgProc_micro.claheTileSize = 64\n",
    "ImgProc_micro.NLM1=50\n",
    "ImgProc_micro.NLM2=20\n",
    "ImgProc_micro.NLM3=21\n",
    "\n",
    "img_fluo = cv2.imread(os.path.join(basedir,'bf',fluo_imgs[0]),0)\n",
    "img_bf = cv2.imread(os.path.join(basedir,'fluor',bf_imgs[0]),0)\n",
    "    \n",
    "img_bf_proc = ImgProc_micro.histogramEq((img_bf))\n",
    "img_fluo_proc2 = ImgProc_micro.histogramEq(ImgProc_micro.subtractBackground(img_fluo))\n",
    "\n",
    "img_bf_den = ImgProc_micro.fastNonLocalDenoising(img_bf_proc)\n",
    "img_fluo_den = ImgProc_micro.fastNonLocalDenoising(img_fluo_proc2)\n",
    "\n",
    "\n",
    "cv2.imwrite(os.path.join(basedir,'bf_proc',bfimg),img_bf_den)\n",
    "cv2.imwrite(os.path.join(basedir,'fluor_proc',fluo_imgs[idx]),img_fluo_den)"
   ]
  },
  {
   "cell_type": "code",
   "execution_count": null,
   "metadata": {},
   "outputs": [],
   "source": [
    "# preprocess raw LED images\n",
    "\n",
    "ImgProc = ImagePreProcessor()\n",
    "ImgProc.claheClip = 6\n",
    "ImgProc.claheTileSize = 12\n",
    "\n",
    "img_raw = cv2.imread(os.path.join(basedir,'lensfree_unaligned_raw',lm_imgs[0]),1)\n",
    "img = cv2.cvtColor(img_raw, cv2.COLOR_BGR2GRAY)\n",
    "img_proc = ImgProc.histogramEq(ImgProc.subtractBackground(img))"
   ]
  }
 ],
 "metadata": {
  "kernelspec": {
   "display_name": "Python 3",
   "language": "python",
   "name": "python3"
  },
  "language_info": {
   "codemirror_mode": {
    "name": "ipython",
    "version": 3
   },
   "file_extension": ".py",
   "mimetype": "text/x-python",
   "name": "python",
   "nbconvert_exporter": "python",
   "pygments_lexer": "ipython3",
   "version": "3.5.2"
  }
 },
 "nbformat": 4,
 "nbformat_minor": 2
}
