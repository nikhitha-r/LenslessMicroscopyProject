{
 "cells": [
  {
   "cell_type": "markdown",
   "metadata": {},
   "source": [
    "# overlay segmentation mask on microscopy image\n",
    "\n",
    "needs:\n",
    "* grayscale microscopy or lensfree microscopy iamge\n",
    "* and a foreground mask"
   ]
  },
  {
   "cell_type": "code",
   "execution_count": null,
   "metadata": {},
   "outputs": [],
   "source": [
    "import cv2\n",
    "import numpy as np\n",
    "\n",
    "import colormaps as cmaps\n",
    "\n",
    "import matplotlib.pyplot as plt\n",
    "%matplotlib inline"
   ]
  },
  {
   "cell_type": "code",
   "execution_count": null,
   "metadata": {},
   "outputs": [],
   "source": [
    "def colorMapIndex(clustersize) :\n",
    "    index = 0\n",
    "    if(clustersize > cmin + 1.0) :\n",
    "        index = min(int(255* np.log(clustersize-cmin)/lncmax), 255)\n",
    "    return(index)\n",
    "\n",
    "\n",
    "def compOverlayImage(image,mask,transparancylevel):\n",
    "    im2, contours, hierarchy = cv2.findContours(mask, cv2.RETR_CCOMP, cv2.CHAIN_APPROX_SIMPLE)\n",
    "\n",
    "    foreGroundContourList = []\n",
    "    backGroundContourList = []\n",
    "\n",
    "    i = 0\n",
    "    for cnt in contours:\n",
    "        if(hierarchy[0][i][3] == -1) :  # i.e., if it is a foreground object\n",
    "            area = cv2.contourArea(cnt)\n",
    "            holeArea = 0\n",
    "            holeIndex = hierarchy[0][i][2]\n",
    "            while holeIndex != -1 :\n",
    "                holeArea += cv2.contourArea(contours[holeIndex])\n",
    "                holeIndex = hierarchy[0][holeIndex][0]\n",
    "            area -= holeArea\n",
    "            foreGroundContourList += [(cnt, area)]\n",
    "        else :\n",
    "            area = cv2.contourArea(cnt)\n",
    "            backGroundContourList += [(cnt, area)]\n",
    "        i += 1\n",
    "\n",
    "\n",
    "\n",
    "    fgSorted = sorted(foreGroundContourList, key=lambda x: x[1])\n",
    "    bgSorted = sorted(backGroundContourList, key=lambda x: x[1])\n",
    "\n",
    "    lncmax = np.log(0.15*1944.0*2592.0)   # Clustersize corresponding to the maximum of \n",
    "                                    # the color scale (=10% of the image area)\n",
    "    cmin = 2000.0                   # Clustersize corresponding to the minimum of \n",
    "                                    # the color scale\n",
    "\n",
    "    palette = cmaps._plasma_data\n",
    "    palette = palette[::-1]\n",
    "    colorMask = np.zeros(image.shape, np.uint8)\n",
    "    for entry in reversed(fgSorted) :\n",
    "        fgContour = np.array(entry[0]).reshape(-1,1,2).astype(np.int32)\n",
    "        index = 255 - colorMapIndex(entry[1])\n",
    "        R = int(255*palette[index][0])\n",
    "        G = int(255*palette[index][1])\n",
    "        B = int(255*palette[index][2])\n",
    "        cv2.drawContours(colorMask, [fgContour], 0, (B,G,R), cv2.FILLED)\n",
    "        fgArea = cv2.contourArea(fgContour)\n",
    "        for entry2 in reversed(bgSorted) :\n",
    "            bgContour = np.array(entry2[0]).reshape(-1,1,2).astype(np.int32)\n",
    "            bgArea = cv2.contourArea(bgContour)\n",
    "            if(bgArea < fgArea) :\n",
    "                cv2.drawContours(colorMask, [bgContour], 0, (0,0,0), cv2.FILLED)\n",
    "    output = cv2.addWeighted(colorMask, transparancylevel, image, 1.0-transparancylevel, 0, None)\n",
    "    return output "
   ]
  },
  {
   "cell_type": "code",
   "execution_count": null,
   "metadata": {},
   "outputs": [],
   "source": [
    "transparancylevel = 0.5\n",
    "image = cv2.cvtColor(raw,cv2.COLOR_GRAY2RGB)\n",
    "\n",
    "output = compOverlayImage(image,img_mask,transparancylevel)\n",
    "\n",
    "plt.figure(figsize=(10,10))\n",
    "plt.imshow(output)\n",
    "plt.xticks([]), plt.yticks([])  # to hide tick values on X and Y axis\n",
    "plt.title('overlay Image')\n",
    "plt.show()"
   ]
  }
 ],
 "metadata": {
  "kernelspec": {
   "display_name": "Python 3",
   "language": "python",
   "name": "python3"
  },
  "language_info": {
   "codemirror_mode": {
    "name": "ipython",
    "version": 3
   },
   "file_extension": ".py",
   "mimetype": "text/x-python",
   "name": "python",
   "nbconvert_exporter": "python",
   "pygments_lexer": "ipython3",
   "version": "3.5.2"
  }
 },
 "nbformat": 4,
 "nbformat_minor": 2
}
